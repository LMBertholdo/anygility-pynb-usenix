{
 "cells": [
  {
   "cell_type": "markdown",
   "metadata": {},
   "source": [
    "# Generate graph from Poisoning results"
   ]
  },
  {
   "cell_type": "code",
   "execution_count": 24,
   "metadata": {},
   "outputs": [],
   "source": [
    "import pandas as pd \n",
    "import json\n",
    "from pprint import pprint\n",
    "import requests\n",
    "from datetime import date\n",
    "import time\n",
    "import datetime\n",
    "\n",
    "import cfscrape\n",
    "from lxml import etree\n",
    "from bs4 import BeautifulSoup\n",
    "import re\n",
    "import requests\n",
    "from pandas.io.json import json_normalize\n",
    "import json\n",
    "from datetime import datetime\n",
    "import numpy as np\n",
    "import os\n",
    "import paramiko\n",
    "\n",
    "import matplotlib.pyplot as plt"
   ]
  },
  {
   "cell_type": "markdown",
   "metadata": {},
   "source": [
    "# Globals"
   ]
  },
  {
   "cell_type": "code",
   "execution_count": 25,
   "metadata": {},
   "outputs": [],
   "source": [
    "DATASET_DIR = \"./poison-baseline/\"   # .stat files from vp-cli.py\n",
    "CSV_OUT_FILE = './poison-baseline.csv'\n",
    "PNG_FILE = './poison-baseline.png'"
   ]
  },
  {
   "cell_type": "markdown",
   "metadata": {},
   "source": [
    "# Functions"
   ]
  },
  {
   "cell_type": "code",
   "execution_count": 26,
   "metadata": {},
   "outputs": [],
   "source": [
    "'''\n",
    "    Return true if all elements in array are equal (useful to check prepend)\n",
    "'''\n",
    "def all_equal_elem_array(lst):\n",
    "    return lst[:-1] == lst[1:]"
   ]
  },
  {
   "cell_type": "code",
   "execution_count": 27,
   "metadata": {},
   "outputs": [],
   "source": [
    "'''\n",
    "    Convert aspath in format (xx_xx_xx) to an array of asn\n",
    "'''\n",
    "def aspath_to_array(aspath):\n",
    "    pattern = '\\d+_?'\n",
    "    aslist = re.findall(pattern, aspath)\n",
    "    for i, element in enumerate(aslist):\n",
    "        aslist[i] = element.replace('_','')\n",
    "    return aslist\n",
    "    \n",
    "    "
   ]
  },
  {
   "cell_type": "code",
   "execution_count": 28,
   "metadata": {},
   "outputs": [],
   "source": [
    "'''\n",
    "    Verify is aspath is poisoned or no (ex. normal pepend)\n",
    "'''\n",
    "def is_poisoned_aspath (aspath):\n",
    "    ##aspath='1149_16735_1149'\n",
    "    \n",
    "    # Check if is path or string\n",
    "    for character in (aspath):\n",
    "        if not (character.isdigit() or character == '_'):\n",
    "            #print ('Not valid AS-Path ->', aspath)\n",
    "            return False\n",
    "    \n",
    "    # Convert aspath to array\n",
    "    aslist = aspath_to_array(aspath)\n",
    "    #print(aslist, aslist[0],aslist[-1])\n",
    "    \n",
    "    # 1st and last are equal\n",
    "    if len(aslist)> 2 and aslist[0]==aslist[-1]:\n",
    "        if all_equal_elem_array(aslist):\n",
    "            #print ('AS-Path prepend ->', aspath)\n",
    "            return False\n",
    "        else:\n",
    "            #print ('poison->', aspath)\n",
    "            return True\n",
    "    else:\n",
    "        #print('Regular AS-Path->', aspath)\n",
    "        return False"
   ]
  },
  {
   "cell_type": "code",
   "execution_count": 29,
   "metadata": {},
   "outputs": [],
   "source": [
    "'''\n",
    "    Extract aspath from filename returning in fomat xx_xx_xx \n",
    "'''\n",
    "def extract_aspath_from_filename (fname):\n",
    "    #fname = 'POISON_1149_16735_1149_PINGER-us-mia_DRAIN-nodrain_poa-lnd-mia_2021-04-20-08-37.csv.stats'\n",
    "    aspath = re.search('POISON_(.+)_PINGER', fname)\n",
    "    pattern = '\\d+_?'\n",
    "    \n",
    "    if aspath:\n",
    "        found = aspath.group(1)\n",
    "        #print (found)\n",
    "        return (found)\n",
    "        #var = re.findall(pattern, found)\n",
    "        #for i in var:\n",
    "        #    print (i.replace('_',''))\n",
    "    else:\n",
    "        return 'ASPath_not_found'\n",
    "  "
   ]
  },
  {
   "cell_type": "code",
   "execution_count": 30,
   "metadata": {},
   "outputs": [],
   "source": [
    "def which_policy_from_aspath(aspath):\n",
    "    \n",
    "    # For now just return aspath\n",
    "    return aspath\n",
    "    \n",
    "    if is_poisoned_aspath(aspath):        \n",
    "        # return just poison asn in the middle\n",
    "        #asns = aspath_to_array(aspath)\n",
    "        #policy = '_'.join(asns[1:-1])\n",
    "        \n",
    "        print('poison  -> ', asns, policy)\n",
    "        \n",
    "    else:\n",
    "        # prepend or baseline return itself\n",
    "        policy = aspath\n",
    "        #print('not poison -->', policy)\n",
    "\n",
    "    return policy\n",
    "    "
   ]
  },
  {
   "cell_type": "code",
   "execution_count": 32,
   "metadata": {},
   "outputs": [],
   "source": [
    "'''\n",
    "    read statistics files from verfploeter/vp-cli.py getting percentages of values\n",
    "    receive: Stats file from vp-cli.py\n",
    "    return:  sites\n",
    "'''\n",
    "\n",
    "def read_stats(file):\n",
    "    #file='POISON_1149_16735_1149_PINGER-us-mia_DRAIN-nodrain_poa-lnd-mia_2021-04-20-08-37.csv.stats'\n",
    "    f = open(file,\"r\")\n",
    "    for x in f:\n",
    "        #print(x)\n",
    "        if 'lnd' in x:\n",
    "            aux=x.rsplit('|',1)[1]\n",
    "            #print (aux[0],'xxx', aux[1])\n",
    "            aux=aux.rsplit('-',1)[1]\n",
    "            aux=aux.rsplit('%',1)[0]\n",
    "            #print(aux)\n",
    "            lnd=int(aux)\n",
    "        if 'poa' in x:\n",
    "            aux=x.rsplit('|',1)[1]\n",
    "            aux=aux.rsplit('-',1)[1]\n",
    "            aux=aux.rsplit('%',1)[0]\n",
    "            poa=int(aux)\n",
    "        if 'mia' in x:\n",
    "            aux=x.rsplit('|',1)[1]\n",
    "            aux=aux.rsplit('-',1)[1]\n",
    "            aux=aux.rsplit('%',1)[0]\n",
    "            mia=int(aux)\n",
    "    #print('mia',mia,'poa',poa,'lnd',lnd)\n",
    "    return lnd, mia, poa"
   ]
  },
  {
   "cell_type": "markdown",
   "metadata": {},
   "source": [
    "# Main"
   ]
  },
  {
   "cell_type": "code",
   "execution_count": 33,
   "metadata": {},
   "outputs": [
    {
     "name": "stdout",
     "output_type": "stream",
     "text": [
      "1149_12953_1149\n",
      "1149_1149_1149\n",
      "1149_63221_24115_1149\n",
      "1149_6939_1149\n",
      "1149_2914_1149\n",
      "1149_262589_1149\n",
      "baseline\n",
      "1149_1239_1149\n",
      "1149_1251_1149\n",
      "1149_63221_1149\n",
      "1149_6453_1149\n",
      "1149_6461_1149\n",
      "1149_24115_1149\n",
      "1149_1149\n",
      "1149_5511_1149\n",
      "1149_3257_1149\n",
      "1149_174_1149\n",
      "1149_16735_1149\n",
      "1149_701_1149\n",
      "1149_7018_1149\n",
      "1149_3356_1149\n",
      "1149_1916_1149\n",
      "1149_6762_1149\n",
      "1149_1299_1149\n",
      "1149_1273_1149\n",
      "1149_3320_1149\n"
     ]
    }
   ],
   "source": [
    "# Read all .stat files to DF\n",
    "i=0\n",
    "headers = ['policy', 'lnd', 'mia', 'poa']\n",
    "df=pd.DataFrame(columns=headers)\n",
    "\n",
    "# search for .stat files on dataset_dir\n",
    "for file in os.listdir(DATASET_DIR):\n",
    "    #print ('file ===>',fname)\n",
    "    print (extract_aspath_from_filename(file))\n",
    "    \n",
    "    if not '/' in file:\n",
    "        #print(\"Missing directory - suposing local!\")\n",
    "        fname = file\n",
    "    else: \n",
    "        fname = file.rsplit('/',1)[1]\n",
    "        \n",
    "    if re.match(r\"POISON_(.*)csv.stats\", fname):\n",
    "        #print ('file ===>',fname)\n",
    "\n",
    "        aux = re.search('POISON_(.*)_PINGER-(.*)_DRAIN-(.*)_(.*)_(.*).csv.stats',file)\n",
    "        \n",
    "        aspath = extract_aspath_from_filename(fname)    \n",
    "        policy = which_policy_from_aspath(aspath)\n",
    "        \n",
    "        pinger= aux[2]\n",
    "        drain = aux[3]\n",
    "        sites = aux[4]\n",
    "        fdate = aux[5]\n",
    "        \n",
    "        lnd, mia, poa = read_stats(DATASET_DIR+fname)\n",
    "        values = [policy, lnd, mia, poa]\n",
    "        zipped = zip(headers, values)\n",
    "        a_dictionary = dict(zipped)\n",
    "        #print ('====>', a_dictionary)\n",
    "        df = df.append(a_dictionary, ignore_index=True)\n",
    "\n",
    "    #print (\"Policy:\",policy, \"Pinger:\", pinger,\" Drain:\", drain, \" Sites:\", sites, \"Date:\", fdate, \"ASPath:\", aspath)"
   ]
  },
  {
   "cell_type": "code",
   "execution_count": 34,
   "metadata": {},
   "outputs": [
    {
     "data": {
      "text/html": [
       "<div>\n",
       "<style scoped>\n",
       "    .dataframe tbody tr th:only-of-type {\n",
       "        vertical-align: middle;\n",
       "    }\n",
       "\n",
       "    .dataframe tbody tr th {\n",
       "        vertical-align: top;\n",
       "    }\n",
       "\n",
       "    .dataframe thead th {\n",
       "        text-align: right;\n",
       "    }\n",
       "</style>\n",
       "<table border=\"1\" class=\"dataframe\">\n",
       "  <thead>\n",
       "    <tr style=\"text-align: right;\">\n",
       "      <th></th>\n",
       "      <th>lnd</th>\n",
       "      <th>mia</th>\n",
       "      <th>poa</th>\n",
       "    </tr>\n",
       "    <tr>\n",
       "      <th>policy</th>\n",
       "      <th></th>\n",
       "      <th></th>\n",
       "      <th></th>\n",
       "    </tr>\n",
       "  </thead>\n",
       "  <tbody>\n",
       "    <tr>\n",
       "      <th>baseline</th>\n",
       "      <td>57</td>\n",
       "      <td>20</td>\n",
       "      <td>21</td>\n",
       "    </tr>\n",
       "    <tr>\n",
       "      <th>1149_1149</th>\n",
       "      <td>68</td>\n",
       "      <td>8</td>\n",
       "      <td>22</td>\n",
       "    </tr>\n",
       "  </tbody>\n",
       "</table>\n",
       "</div>"
      ],
      "text/plain": [
       "          lnd mia poa\n",
       "policy               \n",
       "baseline   57  20  21\n",
       "1149_1149  68   8  22"
      ]
     },
     "execution_count": 34,
     "metadata": {},
     "output_type": "execute_result"
    }
   ],
   "source": [
    "# Prepare DF to plot\n",
    "#df=df.sort_values('mia')\n",
    "df=df.sort_values(['mia','policy'],ascending=[False, True])\n",
    "df=df.reset_index(level=None, drop=True, inplace=False, col_level=0, col_fill='')\n",
    "df=df.set_index('policy')\n",
    "df.head(2)"
   ]
  },
  {
   "cell_type": "code",
   "execution_count": 16,
   "metadata": {},
   "outputs": [
    {
     "data": {
      "text/plain": [
       "Index(['-3xMIA', '-4xMIA', 'baseline', '1149_12953_1149', '1149_1251_1149',\n",
       "       '1149_16735_1149', '1149_1916_1149', '1149_262589_1149',\n",
       "       '1149_63221_1149', '1149_24115_1149', '1149_1273_1149',\n",
       "       '1149_6461_1149', '1149_63221_24115_1149', '1149_6939_1149',\n",
       "       '1149_1239_1149', '1149_1299_1149', '1149_174_1149', '1149_2914_1149',\n",
       "       '1149_3257_1149', '1149_3320_1149', '1149_3356_1149', '1149_5511_1149',\n",
       "       '1149_6453_1149', '1149_6762_1149', '1149_7018_1149', '1149_701_1149'],\n",
       "      dtype='object', name='policy')"
      ]
     },
     "execution_count": 16,
     "metadata": {},
     "output_type": "execute_result"
    }
   ],
   "source": [
    "#df.index[::-1]\n",
    "df.index"
   ]
  },
  {
   "cell_type": "code",
   "execution_count": null,
   "metadata": {},
   "outputs": [],
   "source": []
  },
  {
   "cell_type": "raw",
   "metadata": {},
   "source": [
    "# Poison Method Order based on Poison3\n",
    "df=df.set_index('policy')\n",
    "reorderlist = ['baseline','-3xMIA', '1149_12953_1149', '1149_1251_1149',\n",
    "       '1149_16735_1149', '1149_1916_1149', '1149_262589_1149',\n",
    "       '1149_63221_1149', '1149_24115_1149', '1149_1273_1149',\n",
    "       '1149_6461_1149',  '1149_6939_1149',\n",
    "       '1149_1239_1149', '1149_1299_1149', '1149_174_1149', '1149_2914_1149',\n",
    "       '1149_3257_1149', '1149_3320_1149', '1149_3356_1149', '1149_5511_1149',\n",
    "       '1149_6453_1149', '1149_6762_1149', '1149_7018_1149', '1149_701_1149',\n",
    "       '-4xMIA', '1149_63221_24115_1149',]\n",
    "df=df.reindex(reorderlist)\n",
    "df"
   ]
  },
  {
   "cell_type": "code",
   "execution_count": 35,
   "metadata": {},
   "outputs": [
    {
     "data": {
      "image/png": "[encoded data removed]",
      "text/plain": [
       "<Figure size 720x432 with 1 Axes>"
      ]
     },
     "metadata": {
      "needs_background": "light"
     },
     "output_type": "display_data"
    }
   ],
   "source": [
    "# Plot stackbar to sites poisoned\n",
    "\n",
    "from matplotlib import pyplot as plt\n",
    "\n",
    "plt.rcParams[\"figure.figsize\"] = [10, 6]\n",
    "\n",
    "# creates a stacked bar plot\n",
    "df.plot(kind='bar', stacked=True)\n",
    "plt.title(\"Poisoning path in Miami\")\n",
    "plt.xlabel(\"AS_Path advertised on MIA\", fontsize='14')\n",
    "plt.ylabel('Percentage of Networks Shifted', fontsize='14')\n",
    "plt.legend(loc='lower center', ncol=3, fontsize='14')\n",
    "plt.tight_layout()\n",
    "plt.xticks(rotation=90,ha='right')\n",
    "plt.savefig(PNG_FILE)\n"
   ]
  },
  {
   "cell_type": "code",
   "execution_count": 36,
   "metadata": {},
   "outputs": [],
   "source": [
    "# save DF to CSV\n",
    "df=df.reset_index(drop=False)\n",
    "df.to_csv(CSV_OUT_FILE,index=False)\n"
   ]
  },
  {
   "cell_type": "code",
   "execution_count": null,
   "metadata": {},
   "outputs": [],
   "source": [
    "# End of file"
   ]
  }
 ],
 "metadata": {
  "kernelspec": {
   "display_name": "Python 3",
   "language": "python",
   "name": "python3"
  },
  "language_info": {
   "codemirror_mode": {
    "name": "ipython",
    "version": 3
   },
   "file_extension": ".py",
   "mimetype": "text/x-python",
   "name": "python",
   "nbconvert_exporter": "python",
   "pygments_lexer": "ipython3",
   "version": "3.8.5"
  }
 },
 "nbformat": 4,
 "nbformat_minor": 4
}
